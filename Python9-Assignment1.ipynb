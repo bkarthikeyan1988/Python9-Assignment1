{
 "cells": [
  {
   "cell_type": "code",
   "execution_count": 3,
   "metadata": {},
   "outputs": [
    {
     "name": "stdout",
     "output_type": "stream",
     "text": [
      "[1, 2, 0, 1, 2, 3, 4, 0, 1, 2]\n"
     ]
    }
   ],
   "source": [
    "import pandas as pd\n",
    "import numpy as np\n",
    "import math\n",
    "import pandas as pd\n",
    "df = pd.DataFrame({'X': [7, 2, 0, 3, 4, 2, 5, 0, 3, 4]})\n",
    "\n",
    "idx = df.index[df['X']].tolist()\n",
    "\n",
    "to_zero = [(idx[i::-1]+[0]).index(0) for i in range(len(idx))]\n",
    "\n",
    "print(to_zero)"
   ]
  },
  {
   "cell_type": "markdown",
   "metadata": {},
   "source": [
    "# create a range of dates for the year 2015"
   ]
  },
  {
   "cell_type": "code",
   "execution_count": 13,
   "metadata": {},
   "outputs": [
    {
     "name": "stdout",
     "output_type": "stream",
     "text": [
      "-------------------\n",
      "--- Sums by Day ---\n",
      "-------------------\n",
      "Day_Of_Week\n",
      "Friday       28245\n",
      "Monday       24944\n",
      "Saturday     24495\n",
      "Sunday       27173\n",
      "Thursday     30136\n",
      "Tuesday      27805\n",
      "Wednesday    24973\n",
      "Name: A, dtype: int64\n"
     ]
    }
   ],
   "source": [
    "set_date_range = pd.date_range('20150101', periods=365)\n",
    "df = pd.DataFrame(np.random.randint(999,size=365),index=np.arange(365),columns=list('A'))\n",
    "df['My_Dates'] = pd.to_datetime(set_date_range)\n",
    "df['Day_Of_Week'] = df['My_Dates'].dt.weekday_name\n",
    "df['Month_Of_Year'] = df['My_Dates'].dt.month\n",
    "import calendar\n",
    "df['Month_Of_Year'] = df['Month_Of_Year'].apply(lambda x: calendar.month_name[x])\n",
    "\n",
    "days_of_week_sum=df.groupby('Day_Of_Week')['A'].sum()\n",
    "print(\"-------------------\")\n",
    "print(\"--- Sums by Day ---\")\n",
    "print(\"-------------------\")\n",
    "print(days_of_week_sum)\n"
   ]
  },
  {
   "cell_type": "code",
   "execution_count": 14,
   "metadata": {},
   "outputs": [
    {
     "name": "stdout",
     "output_type": "stream",
     "text": [
      "-------------------\n",
      "- Monthly Average -\n",
      "-------------------\n",
      "Month_Of_Year\n",
      "April        518.37\n",
      "August       522.61\n",
      "December     538.00\n",
      "February     542.07\n",
      "January      488.52\n",
      "July         437.29\n",
      "June         582.60\n",
      "March        497.00\n",
      "May          554.94\n",
      "November     611.07\n",
      "October      440.19\n",
      "September    446.57\n",
      "Name: A, dtype: float64\n"
     ]
    }
   ],
   "source": [
    "month_of_year_avg=df.groupby('Month_Of_Year')['A'].mean().round(decimals=2)\n",
    "\n",
    "print(\"-------------------\")\n",
    "print(\"- Monthly Average -\")\n",
    "print(\"-------------------\")\n",
    "print(month_of_year_avg)"
   ]
  },
  {
   "cell_type": "code",
   "execution_count": 15,
   "metadata": {},
   "outputs": [
    {
     "name": "stdout",
     "output_type": "stream",
     "text": [
      "----------------------------------------------\n",
      "- The maximum value for the first tertile is -\n",
      "----------------------------------------------\n",
      "A                                986\n",
      "My_Dates         2015-03-09 00:00:00\n",
      "Day_Of_Week                   Monday\n",
      "Month_Of_Year                  March\n",
      "Name: 67, dtype: object\n"
     ]
    }
   ],
   "source": [
    "single_string_subset=df[df.Month_Of_Year == 'January'] \n",
    "mask_out = df[(~df['Month_Of_Year'].str.contains(\"January\")) & (~df['Month_Of_Year'].str.contains(\"February\")) & (~df['Month_Of_Year'].str.contains(\"March\"))]\n",
    "Tertile_One = df[df['Month_Of_Year'].str.contains(\"January|February|March|April\")==True]\n",
    "Tertile_Two = df[df['Month_Of_Year'].str.contains(\"May|June|July|August\")==True]\n",
    "Tertile_Three = df[df['Month_Of_Year'].str.contains(\"September|October|November|December\")==True]\n",
    "print(\"----------------------------------------------\")\n",
    "print(\"- The maximum value for the first tertile is -\")\n",
    "print(\"----------------------------------------------\")\n",
    "print(Tertile_One.loc[Tertile_One['A'].idxmax()])"
   ]
  },
  {
   "cell_type": "code",
   "execution_count": 16,
   "metadata": {},
   "outputs": [
    {
     "name": "stdout",
     "output_type": "stream",
     "text": [
      "-----------------------------------------------\n",
      "- The maximum value for the second tertile is -\n",
      "-----------------------------------------------\n",
      "A                                984\n",
      "My_Dates         2015-06-21 00:00:00\n",
      "Day_Of_Week                   Sunday\n",
      "Month_Of_Year                   June\n",
      "Name: 171, dtype: object\n"
     ]
    }
   ],
   "source": [
    "\n",
    "print(\"-----------------------------------------------\")\n",
    "print(\"- The maximum value for the second tertile is -\")\n",
    "print(\"-----------------------------------------------\")\n",
    "print(Tertile_Two.loc[Tertile_Two['A'].idxmax()])"
   ]
  },
  {
   "cell_type": "code",
   "execution_count": 18,
   "metadata": {},
   "outputs": [
    {
     "name": "stdout",
     "output_type": "stream",
     "text": [
      "----------------------------------------------\n",
      "- The maximum value for the third tertile is -\n",
      "----------------------------------------------\n",
      "A                                998\n",
      "My_Dates         2015-09-04 00:00:00\n",
      "Day_Of_Week                   Friday\n",
      "Month_Of_Year              September\n",
      "Name: 246, dtype: object\n",
      "----------------------------------------------\n"
     ]
    }
   ],
   "source": [
    "print(\"----------------------------------------------\")\n",
    "print(\"- The maximum value for the third tertile is -\")\n",
    "print(\"----------------------------------------------\")\n",
    "print(Tertile_Three.loc[Tertile_Three['A'].idxmax()])\n",
    "print(\"----------------------------------------------\")"
   ]
  },
  {
   "cell_type": "code",
   "execution_count": null,
   "metadata": {},
   "outputs": [],
   "source": []
  }
 ],
 "metadata": {
  "kernelspec": {
   "display_name": "Python 3",
   "language": "python",
   "name": "python3"
  },
  "language_info": {
   "codemirror_mode": {
    "name": "ipython",
    "version": 3
   },
   "file_extension": ".py",
   "mimetype": "text/x-python",
   "name": "python",
   "nbconvert_exporter": "python",
   "pygments_lexer": "ipython3",
   "version": "3.6.4"
  }
 },
 "nbformat": 4,
 "nbformat_minor": 2
}
